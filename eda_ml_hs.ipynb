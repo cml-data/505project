{
 "cells": [
  {
   "cell_type": "markdown",
   "metadata": {},
   "source": [
    "## Overview from Orem"
   ]
  },
  {
   "cell_type": "markdown",
   "metadata": {},
   "source": [
    "Present your findings to the class in a compelling way, speaking for 10 minutes or so (if you have more to share and just can't help it, you are welcome to run over that). You don't need to cover everything in your analysis, focus on the fun / interesting / compelling highlights or challenges. A clean notebook with good visualizations (pre-run, don't need to run it live; please do have it cleaned up for a presentation context) or slides would both be fine, whatever works for your team.\n",
    "\n",
    "Please note that a given sub-area (PCA, or hyperparameter optimization, etc.) may not be that meaningful for your particular dataset. It is fine to emphasize one area less and another area more.\n",
    "\n",
    "The point totals below are more guidelines. Explaning your dataset is important, the main focus is on supervised learning, and dimensionality reduction and clustering can (sometimes) give us cool insights. I won't be viewing the presentations and subtracting points for not mentioning a certain line item. The real goal is \"show your peers some cool analysis of data, demonstrating that you have learned to apply the key ideas of the course to a novel dataset\".\n",
    "\n",
    "As always, please feel free to email me with any questions.\n",
    "\n",
    "\n",
    "### 5 pts: introduce your dataset to the audience. Here are some suggested key points.\n",
    "\n",
    "- how many features? how many rows?\n",
    "- continuous or categorical? missing data?\n",
    "- What is your dependent variable? regression or classification? distribution?\n",
    "- did you need to perform any data exploration, cleaning, transformation?\n",
    "\n",
    "\n",
    "### 10 pts: perform some thoughtful supervised learning, including engineering and selecting features, selecting and optimizing a model, and explaining your model (coefficients or feature importance, performance). Here are some suggested key points.\n",
    "\n",
    "- feature engineering / selection, bivariate charts? Interactions?\n",
    "- missing data? how to handle it?\n",
    "- Selection of modeling algorithm? classification or regression? binary or multi-class?\n",
    "- interpretation of variable importance, coefficients if applicable\n",
    "- justification of choice of metric (accuracy, precision / recall, other?)\n",
    "- is class weighting or over / under sampling appropriate?\n",
    "- discussion of choice or tuning of hyperparameters, if any\n",
    "- meaningful discussion of predictive power and conclusions from model\n",
    "- look at misclassified examples from test dataset, what do they say about your model?\n",
    "- outliers in data?\n",
    "\n",
    "\n",
    "### 5 pts: PCA as data exploration and visualization. Here are some suggested key points.\n",
    "\n",
    "- take a look at PCA, percent explained\n",
    "- take a look at top eigenvector or two, what is it made out of?\n",
    "- can you visualize your prediction problem by projecting to 2 dimensions?\n",
    "\n",
    "\n",
    "### 5 pts: k-means as data exploration and visualization. Here are some suggested key points.\n",
    "\n",
    "- discussion for choosing number of clusters\n",
    "- analysis of cluster centers\n",
    "- scatter plot(s) showing 2 dimensional perspective of clusters and cluster centers?\n",
    "- meaningful interpretation / discussion of conclusions"
   ]
  },
  {
   "cell_type": "markdown",
   "metadata": {},
   "source": [
    "## Load data"
   ]
  },
  {
   "cell_type": "code",
   "execution_count": 93,
   "metadata": {},
   "outputs": [],
   "source": [
    "\n",
    "import pandas as pd\n",
    "import numpy as np\n",
    "\n",
    "#lost code for this ds, but thankfully I had the csv saved. this is the same as the clean_speeddating_with_na.csv ds but I removed all the binned columns and the has_null column\n",
    "df = pd.read_csv(\"clean_speeddating_with_na_no_bins.csv\", low_memory=False)\n",
    "df = df.applymap(lambda x: np.nan if x == '?' else x)\n",
    "\n",
    "\n",
    "pd.set_option('display.max_columns', None)\n",
    "pd.set_option('display.max_rows', None)\n",
    "\n",
    "#also get rid of decision and decision_o and like because that would give it away. and get rid of the first two unnamed columns (not sure where they came from?)\n",
    "df = df.drop(['decision', 'decision_o', 'like'], axis=1)\n",
    "df.drop(df.columns[[0, 1]], axis=1, inplace=True)\n",
    "df.to_csv('clean_speeddating_with_na_no_bins2.csv')\n"
   ]
  },
  {
   "cell_type": "markdown",
   "metadata": {},
   "source": [
    "## Feature selection using kbest"
   ]
  },
  {
   "cell_type": "markdown",
   "metadata": {},
   "source": [
    "#### first pre process"
   ]
  },
  {
   "cell_type": "code",
   "execution_count": 113,
   "metadata": {},
   "outputs": [],
   "source": [
    "from sklearn.feature_selection import SelectKBest\n",
    "from sklearn import preprocessing\n",
    "from sklearn.preprocessing import OneHotEncoder\n",
    "from sklearn.compose import ColumnTransformer\n",
    "from sklearn.preprocessing import StandardScaler\n",
    "\n",
    "##first have to preprocess\n",
    "\n",
    "#make an encoder for all the categorical columns\n",
    "encoder = OneHotEncoder(handle_unknown='infrequent_if_exist')\n",
    "categorical_cols = [\"gender\", \"race\", \"race_o\", \"field\"]\n",
    "\n",
    "#standard scale all numeric columns since some are on scale of 0-100 and some from 1-10 and some are binary (like same_race)\n",
    "std_scaler = StandardScaler()\n",
    "all_cols = df.columns.tolist()\n",
    "numeric_cols = [col for col in all_cols if col not in categorical_cols]\n",
    "numeric_cols.remove('match')\n",
    "\n",
    "#now use a column transformer to do both pre processors on their separate columns\n",
    "transformer = ColumnTransformer(\n",
    "        [('categories', encoder, categorical_cols),\n",
    "        ('numeric', std_scaler, numeric_cols)],\n",
    "        remainder='drop', verbose_feature_names_out=False)"
   ]
  },
  {
   "cell_type": "markdown",
   "metadata": {},
   "source": [
    "#### then split ds"
   ]
  },
  {
   "cell_type": "code",
   "execution_count": 68,
   "metadata": {},
   "outputs": [],
   "source": [
    "from sklearn.model_selection import train_test_split\n",
    "\n",
    "X = df.loc[:, df.columns != 'match']\n",
    "y = df['match']\n",
    "\n",
    "X_train, X_test, y_train, y_test = train_test_split(X, y, random_state=0)"
   ]
  },
  {
   "cell_type": "code",
   "execution_count": 95,
   "metadata": {},
   "outputs": [],
   "source": [
    "#turns out kMeans can't process nans so drop them and try again\n",
    "df_no_nan = df.dropna()\n",
    "\n",
    "X2 = df_no_nan.loc[:, df_no_nan.columns != 'match']\n",
    "y2 = df_no_nan['match']\n",
    "\n",
    "X_train2, X_test2, y_train2, y_test2 = train_test_split(X2, y2, random_state=0)"
   ]
  },
  {
   "cell_type": "markdown",
   "metadata": {},
   "source": [
    "#### then kbest"
   ]
  },
  {
   "cell_type": "code",
   "execution_count": 96,
   "metadata": {},
   "outputs": [
    {
     "data": {
      "text/html": [
       "<style>#sk-container-id-3 {color: black;}#sk-container-id-3 pre{padding: 0;}#sk-container-id-3 div.sk-toggleable {background-color: white;}#sk-container-id-3 label.sk-toggleable__label {cursor: pointer;display: block;width: 100%;margin-bottom: 0;padding: 0.3em;box-sizing: border-box;text-align: center;}#sk-container-id-3 label.sk-toggleable__label-arrow:before {content: \"▸\";float: left;margin-right: 0.25em;color: #696969;}#sk-container-id-3 label.sk-toggleable__label-arrow:hover:before {color: black;}#sk-container-id-3 div.sk-estimator:hover label.sk-toggleable__label-arrow:before {color: black;}#sk-container-id-3 div.sk-toggleable__content {max-height: 0;max-width: 0;overflow: hidden;text-align: left;background-color: #f0f8ff;}#sk-container-id-3 div.sk-toggleable__content pre {margin: 0.2em;color: black;border-radius: 0.25em;background-color: #f0f8ff;}#sk-container-id-3 input.sk-toggleable__control:checked~div.sk-toggleable__content {max-height: 200px;max-width: 100%;overflow: auto;}#sk-container-id-3 input.sk-toggleable__control:checked~label.sk-toggleable__label-arrow:before {content: \"▾\";}#sk-container-id-3 div.sk-estimator input.sk-toggleable__control:checked~label.sk-toggleable__label {background-color: #d4ebff;}#sk-container-id-3 div.sk-label input.sk-toggleable__control:checked~label.sk-toggleable__label {background-color: #d4ebff;}#sk-container-id-3 input.sk-hidden--visually {border: 0;clip: rect(1px 1px 1px 1px);clip: rect(1px, 1px, 1px, 1px);height: 1px;margin: -1px;overflow: hidden;padding: 0;position: absolute;width: 1px;}#sk-container-id-3 div.sk-estimator {font-family: monospace;background-color: #f0f8ff;border: 1px dotted black;border-radius: 0.25em;box-sizing: border-box;margin-bottom: 0.5em;}#sk-container-id-3 div.sk-estimator:hover {background-color: #d4ebff;}#sk-container-id-3 div.sk-parallel-item::after {content: \"\";width: 100%;border-bottom: 1px solid gray;flex-grow: 1;}#sk-container-id-3 div.sk-label:hover label.sk-toggleable__label {background-color: #d4ebff;}#sk-container-id-3 div.sk-serial::before {content: \"\";position: absolute;border-left: 1px solid gray;box-sizing: border-box;top: 0;bottom: 0;left: 50%;z-index: 0;}#sk-container-id-3 div.sk-serial {display: flex;flex-direction: column;align-items: center;background-color: white;padding-right: 0.2em;padding-left: 0.2em;position: relative;}#sk-container-id-3 div.sk-item {position: relative;z-index: 1;}#sk-container-id-3 div.sk-parallel {display: flex;align-items: stretch;justify-content: center;background-color: white;position: relative;}#sk-container-id-3 div.sk-item::before, #sk-container-id-3 div.sk-parallel-item::before {content: \"\";position: absolute;border-left: 1px solid gray;box-sizing: border-box;top: 0;bottom: 0;left: 50%;z-index: -1;}#sk-container-id-3 div.sk-parallel-item {display: flex;flex-direction: column;z-index: 1;position: relative;background-color: white;}#sk-container-id-3 div.sk-parallel-item:first-child::after {align-self: flex-end;width: 50%;}#sk-container-id-3 div.sk-parallel-item:last-child::after {align-self: flex-start;width: 50%;}#sk-container-id-3 div.sk-parallel-item:only-child::after {width: 0;}#sk-container-id-3 div.sk-dashed-wrapped {border: 1px dashed gray;margin: 0 0.4em 0.5em 0.4em;box-sizing: border-box;padding-bottom: 0.4em;background-color: white;}#sk-container-id-3 div.sk-label label {font-family: monospace;font-weight: bold;display: inline-block;line-height: 1.2em;}#sk-container-id-3 div.sk-label-container {text-align: center;}#sk-container-id-3 div.sk-container {/* jupyter's `normalize.less` sets `[hidden] { display: none; }` but bootstrap.min.css set `[hidden] { display: none !important; }` so we also need the `!important` here to be able to override the default hidden behavior on the sphinx rendered scikit-learn.org. See: https://github.com/scikit-learn/scikit-learn/issues/21755 */display: inline-block !important;position: relative;}#sk-container-id-3 div.sk-text-repr-fallback {display: none;}</style><div id=\"sk-container-id-3\" class=\"sk-top-container\"><div class=\"sk-text-repr-fallback\"><pre>SelectKBest()</pre><b>In a Jupyter environment, please rerun this cell to show the HTML representation or trust the notebook. <br />On GitHub, the HTML representation is unable to render, please try loading this page with nbviewer.org.</b></div><div class=\"sk-container\" hidden><div class=\"sk-item\"><div class=\"sk-estimator sk-toggleable\"><input class=\"sk-toggleable__control sk-hidden--visually\" id=\"sk-estimator-id-7\" type=\"checkbox\" checked><label for=\"sk-estimator-id-7\" class=\"sk-toggleable__label sk-toggleable__label-arrow\">SelectKBest</label><div class=\"sk-toggleable__content\"><pre>SelectKBest()</pre></div></div></div></div></div>"
      ],
      "text/plain": [
       "SelectKBest()"
      ]
     },
     "execution_count": 96,
     "metadata": {},
     "output_type": "execute_result"
    }
   ],
   "source": [
    "transformer.fit(X_train2, y_train2)\n",
    "\n",
    "feature_selector = SelectKBest(k=10)\n",
    "\n",
    "X_train_trans2 = transformer.transform(X_train2)\n",
    "\n",
    "X_train_trans_df2 = pd.DataFrame(X_train_trans2, columns = transformer.get_feature_names_out(),\n",
    "                                index = X_train2.index)\n",
    "\n",
    "feature_selector.fit(X_train_trans_df2, y_train2)"
   ]
  },
  {
   "cell_type": "code",
   "execution_count": 97,
   "metadata": {},
   "outputs": [
    {
     "data": {
      "text/plain": [
       "<Axes: >"
      ]
     },
     "execution_count": 97,
     "metadata": {},
     "output_type": "execute_result"
    },
    {
     "data": {
      "image/png": "[encoded data removed]",
      "text/plain": [
       "<Figure size 640x480 with 1 Axes>"
      ]
     },
     "metadata": {},
     "output_type": "display_data"
    }
   ],
   "source": [
    "X_train_trans_df2.columns[feature_selector.get_support()]\n",
    "\n",
    "top_feature_importance_scores = feature_selector.scores_[feature_selector.get_support()]\n",
    "\n",
    "top_feature_importance_names = X_train_trans_df2.columns[feature_selector.get_support()]\n",
    "\n",
    "pd.Series(top_feature_importance_scores, index=top_feature_importance_names).sort_values(ascending=True).plot(kind='barh')"
   ]
  },
  {
   "cell_type": "markdown",
   "metadata": {},
   "source": [
    "## moving forward I'll just use these top 10 features"
   ]
  },
  {
   "cell_type": "code",
   "execution_count": 98,
   "metadata": {},
   "outputs": [],
   "source": [
    "top10 = ['attractive_o', 'guess_prob_liked', 'shared_interests_o', 'attractive_partner', 'shared_interests_partner', 'funny_o', 'funny_partner', 'met', 'expected_num_matches', 'concerts']"
   ]
  },
  {
   "cell_type": "code",
   "execution_count": 104,
   "metadata": {},
   "outputs": [],
   "source": [
    "#resplit the data using only the top features. still had to use the non-nan data for the models below\n",
    "X_top10 = df_no_nan[top10]\n",
    "y_top10 = df_no_nan['match']\n",
    "\n",
    "X_train_top10, X_test_top10, y_train_top10, y_test_top10 = train_test_split(X_top10, y_top10, random_state=0)"
   ]
  },
  {
   "cell_type": "markdown",
   "metadata": {},
   "source": [
    "## Try ensemble to see which models work the best"
   ]
  },
  {
   "cell_type": "code",
   "execution_count": 105,
   "metadata": {},
   "outputs": [
    {
     "name": "stdout",
     "output_type": "stream",
     "text": [
      "Accuracy: 0.85 (+/- 0.01) [Logistic Regression]\n",
      "Accuracy: 0.86 (+/- 0.00) [Random Forest]\n",
      "Accuracy: 0.81 (+/- 0.01) [naive Bayes]\n",
      "Accuracy: 0.85 (+/- 0.01) [Ensemble]\n"
     ]
    }
   ],
   "source": [
    "from sklearn.naive_bayes import BernoulliNB #choosing Bernoulli since have binary outcome\n",
    "from sklearn.ensemble import VotingClassifier\n",
    "from sklearn.model_selection import cross_val_score\n",
    "from sklearn.linear_model import LogisticRegression\n",
    "from sklearn.ensemble import RandomForestClassifier\n",
    "\n",
    "#three models that might work well. not using hyperparameters yet\n",
    "clf1 = LogisticRegression(random_state=1)\n",
    "clf2 = RandomForestClassifier(random_state=1)\n",
    "clf3 = BernoulliNB()\n",
    "\n",
    "#ensemble\n",
    "eclf = VotingClassifier(\n",
    "    estimators=[('lr', clf1), ('rf', clf2), ('bnb', clf3)],\n",
    "    voting='hard')\n",
    "\n",
    "#find accuracies using cross validated scores\n",
    "for clf, label in zip([clf1, clf2, clf3, eclf], ['Logistic Regression', 'Random Forest', 'naive Bayes', 'Ensemble']):\n",
    "    scores = cross_val_score(clf, X_train_top10, y_train_top10, scoring='accuracy', cv=5) #using the split dataset without nans\n",
    "    print(\"Accuracy: %0.2f (+/- %0.2f) [%s]\" % (scores.mean(), scores.std(), label))\n"
   ]
  },
  {
   "cell_type": "markdown",
   "metadata": {},
   "source": [
    "## They were all pretty good but Random Forest was the best. Try finding hyperparameters for random forest"
   ]
  },
  {
   "cell_type": "markdown",
   "metadata": {},
   "source": [
    "#### first set up preprocessor and model"
   ]
  },
  {
   "cell_type": "code",
   "execution_count": 115,
   "metadata": {},
   "outputs": [],
   "source": [
    "#have to re-process with only the top 10 columns\n",
    "transformer_top10 = ColumnTransformer(\n",
    "        [('numeric', std_scaler, top10)],\n",
    "        remainder='drop', verbose_feature_names_out=False)"
   ]
  },
  {
   "cell_type": "code",
   "execution_count": 116,
   "metadata": {},
   "outputs": [],
   "source": [
    "#set up pipeline\n",
    "from sklearn.pipeline import Pipeline\n",
    "from sklearn.pipeline import make_pipeline\n",
    "\n",
    "classification_pipeline = Pipeline([('transformer', transformer_top10),\n",
    "                                    ('RF_model', RandomForestClassifier())])"
   ]
  },
  {
   "cell_type": "code",
   "execution_count": 117,
   "metadata": {},
   "outputs": [
    {
     "data": {
      "text/plain": [
       "{'memory': None,\n",
       " 'steps': [('transformer',\n",
       "   ColumnTransformer(transformers=[('numeric', StandardScaler(),\n",
       "                                    ['attractive_o', 'guess_prob_liked',\n",
       "                                     'shared_interests_o', 'attractive_partner',\n",
       "                                     'shared_interests_partner', 'funny_o',\n",
       "                                     'funny_partner', 'met',\n",
       "                                     'expected_num_matches', 'concerts'])],\n",
       "                     verbose_feature_names_out=False)),\n",
       "  ('RF_model', RandomForestClassifier())],\n",
       " 'verbose': False,\n",
       " 'transformer': ColumnTransformer(transformers=[('numeric', StandardScaler(),\n",
       "                                  ['attractive_o', 'guess_prob_liked',\n",
       "                                   'shared_interests_o', 'attractive_partner',\n",
       "                                   'shared_interests_partner', 'funny_o',\n",
       "                                   'funny_partner', 'met',\n",
       "                                   'expected_num_matches', 'concerts'])],\n",
       "                   verbose_feature_names_out=False),\n",
       " 'RF_model': RandomForestClassifier(),\n",
       " 'transformer__n_jobs': None,\n",
       " 'transformer__remainder': 'drop',\n",
       " 'transformer__sparse_threshold': 0.3,\n",
       " 'transformer__transformer_weights': None,\n",
       " 'transformer__transformers': [('numeric',\n",
       "   StandardScaler(),\n",
       "   ['attractive_o',\n",
       "    'guess_prob_liked',\n",
       "    'shared_interests_o',\n",
       "    'attractive_partner',\n",
       "    'shared_interests_partner',\n",
       "    'funny_o',\n",
       "    'funny_partner',\n",
       "    'met',\n",
       "    'expected_num_matches',\n",
       "    'concerts'])],\n",
       " 'transformer__verbose': False,\n",
       " 'transformer__verbose_feature_names_out': False,\n",
       " 'transformer__numeric': StandardScaler(),\n",
       " 'transformer__numeric__copy': True,\n",
       " 'transformer__numeric__with_mean': True,\n",
       " 'transformer__numeric__with_std': True,\n",
       " 'RF_model__bootstrap': True,\n",
       " 'RF_model__ccp_alpha': 0.0,\n",
       " 'RF_model__class_weight': None,\n",
       " 'RF_model__criterion': 'gini',\n",
       " 'RF_model__max_depth': None,\n",
       " 'RF_model__max_features': 'sqrt',\n",
       " 'RF_model__max_leaf_nodes': None,\n",
       " 'RF_model__max_samples': None,\n",
       " 'RF_model__min_impurity_decrease': 0.0,\n",
       " 'RF_model__min_samples_leaf': 1,\n",
       " 'RF_model__min_samples_split': 2,\n",
       " 'RF_model__min_weight_fraction_leaf': 0.0,\n",
       " 'RF_model__n_estimators': 100,\n",
       " 'RF_model__n_jobs': None,\n",
       " 'RF_model__oob_score': False,\n",
       " 'RF_model__random_state': None,\n",
       " 'RF_model__verbose': 0,\n",
       " 'RF_model__warm_start': False}"
      ]
     },
     "execution_count": 117,
     "metadata": {},
     "output_type": "execute_result"
    }
   ],
   "source": [
    "#find names of parameters\n",
    "classification_pipeline.get_params()"
   ]
  },
  {
   "cell_type": "code",
   "execution_count": 119,
   "metadata": {},
   "outputs": [],
   "source": [
    "#set up parameters. want to do randomized search\n",
    "from scipy.stats import randint, uniform\n",
    "\n",
    "parameters = {\n",
    "    \"RF_model__max_depth\": randint(3, 30),\n",
    "    \"RF_model__min_impurity_decrease\": uniform(loc=0, scale=0.1),\n",
    "    'RF_model__min_samples_leaf': randint(2, 10)\n",
    "} #nothing to hyperparameterize from transfomer since only used the standard scalar in it (all top10 columns were numeric)"
   ]
  },
  {
   "cell_type": "code",
   "execution_count": 120,
   "metadata": {},
   "outputs": [
    {
     "name": "stdout",
     "output_type": "stream",
     "text": [
      "Fitting 5 folds for each of 10 candidates, totalling 50 fits\n"
     ]
    },
    {
     "data": {
      "text/html": [
       "<style>#sk-container-id-4 {color: black;}#sk-container-id-4 pre{padding: 0;}#sk-container-id-4 div.sk-toggleable {background-color: white;}#sk-container-id-4 label.sk-toggleable__label {cursor: pointer;display: block;width: 100%;margin-bottom: 0;padding: 0.3em;box-sizing: border-box;text-align: center;}#sk-container-id-4 label.sk-toggleable__label-arrow:before {content: \"▸\";float: left;margin-right: 0.25em;color: #696969;}#sk-container-id-4 label.sk-toggleable__label-arrow:hover:before {color: black;}#sk-container-id-4 div.sk-estimator:hover label.sk-toggleable__label-arrow:before {color: black;}#sk-container-id-4 div.sk-toggleable__content {max-height: 0;max-width: 0;overflow: hidden;text-align: left;background-color: #f0f8ff;}#sk-container-id-4 div.sk-toggleable__content pre {margin: 0.2em;color: black;border-radius: 0.25em;background-color: #f0f8ff;}#sk-container-id-4 input.sk-toggleable__control:checked~div.sk-toggleable__content {max-height: 200px;max-width: 100%;overflow: auto;}#sk-container-id-4 input.sk-toggleable__control:checked~label.sk-toggleable__label-arrow:before {content: \"▾\";}#sk-container-id-4 div.sk-estimator input.sk-toggleable__control:checked~label.sk-toggleable__label {background-color: #d4ebff;}#sk-container-id-4 div.sk-label input.sk-toggleable__control:checked~label.sk-toggleable__label {background-color: #d4ebff;}#sk-container-id-4 input.sk-hidden--visually {border: 0;clip: rect(1px 1px 1px 1px);clip: rect(1px, 1px, 1px, 1px);height: 1px;margin: -1px;overflow: hidden;padding: 0;position: absolute;width: 1px;}#sk-container-id-4 div.sk-estimator {font-family: monospace;background-color: #f0f8ff;border: 1px dotted black;border-radius: 0.25em;box-sizing: border-box;margin-bottom: 0.5em;}#sk-container-id-4 div.sk-estimator:hover {background-color: #d4ebff;}#sk-container-id-4 div.sk-parallel-item::after {content: \"\";width: 100%;border-bottom: 1px solid gray;flex-grow: 1;}#sk-container-id-4 div.sk-label:hover label.sk-toggleable__label {background-color: #d4ebff;}#sk-container-id-4 div.sk-serial::before {content: \"\";position: absolute;border-left: 1px solid gray;box-sizing: border-box;top: 0;bottom: 0;left: 50%;z-index: 0;}#sk-container-id-4 div.sk-serial {display: flex;flex-direction: column;align-items: center;background-color: white;padding-right: 0.2em;padding-left: 0.2em;position: relative;}#sk-container-id-4 div.sk-item {position: relative;z-index: 1;}#sk-container-id-4 div.sk-parallel {display: flex;align-items: stretch;justify-content: center;background-color: white;position: relative;}#sk-container-id-4 div.sk-item::before, #sk-container-id-4 div.sk-parallel-item::before {content: \"\";position: absolute;border-left: 1px solid gray;box-sizing: border-box;top: 0;bottom: 0;left: 50%;z-index: -1;}#sk-container-id-4 div.sk-parallel-item {display: flex;flex-direction: column;z-index: 1;position: relative;background-color: white;}#sk-container-id-4 div.sk-parallel-item:first-child::after {align-self: flex-end;width: 50%;}#sk-container-id-4 div.sk-parallel-item:last-child::after {align-self: flex-start;width: 50%;}#sk-container-id-4 div.sk-parallel-item:only-child::after {width: 0;}#sk-container-id-4 div.sk-dashed-wrapped {border: 1px dashed gray;margin: 0 0.4em 0.5em 0.4em;box-sizing: border-box;padding-bottom: 0.4em;background-color: white;}#sk-container-id-4 div.sk-label label {font-family: monospace;font-weight: bold;display: inline-block;line-height: 1.2em;}#sk-container-id-4 div.sk-label-container {text-align: center;}#sk-container-id-4 div.sk-container {/* jupyter's `normalize.less` sets `[hidden] { display: none; }` but bootstrap.min.css set `[hidden] { display: none !important; }` so we also need the `!important` here to be able to override the default hidden behavior on the sphinx rendered scikit-learn.org. See: https://github.com/scikit-learn/scikit-learn/issues/21755 */display: inline-block !important;position: relative;}#sk-container-id-4 div.sk-text-repr-fallback {display: none;}</style><div id=\"sk-container-id-4\" class=\"sk-top-container\"><div class=\"sk-text-repr-fallback\"><pre>RandomizedSearchCV(estimator=Pipeline(steps=[(&#x27;transformer&#x27;,\n",
       "                                              ColumnTransformer(transformers=[(&#x27;numeric&#x27;,\n",
       "                                                                               StandardScaler(),\n",
       "                                                                               [&#x27;attractive_o&#x27;,\n",
       "                                                                                &#x27;guess_prob_liked&#x27;,\n",
       "                                                                                &#x27;shared_interests_o&#x27;,\n",
       "                                                                                &#x27;attractive_partner&#x27;,\n",
       "                                                                                &#x27;shared_interests_partner&#x27;,\n",
       "                                                                                &#x27;funny_o&#x27;,\n",
       "                                                                                &#x27;funny_partner&#x27;,\n",
       "                                                                                &#x27;met&#x27;,\n",
       "                                                                                &#x27;expected_num_matches&#x27;,\n",
       "                                                                                &#x27;concerts&#x27;])],\n",
       "                                                                verbose_feature_names_out=False)),\n",
       "                                             (&#x27;RF_model&#x27;,\n",
       "                                              RandomFores...\n",
       "                   n_jobs=-1,\n",
       "                   param_distributions={&#x27;RF_model__max_depth&#x27;: &lt;scipy.stats._distn_infrastructure.rv_discrete_frozen object at 0x168adf210&gt;,\n",
       "                                        &#x27;RF_model__min_impurity_decrease&#x27;: &lt;scipy.stats._distn_infrastructure.rv_continuous_frozen object at 0x168ab7e50&gt;,\n",
       "                                        &#x27;RF_model__min_samples_leaf&#x27;: &lt;scipy.stats._distn_infrastructure.rv_discrete_frozen object at 0x286808490&gt;},\n",
       "                   verbose=True)</pre><b>In a Jupyter environment, please rerun this cell to show the HTML representation or trust the notebook. <br />On GitHub, the HTML representation is unable to render, please try loading this page with nbviewer.org.</b></div><div class=\"sk-container\" hidden><div class=\"sk-item sk-dashed-wrapped\"><div class=\"sk-label-container\"><div class=\"sk-label sk-toggleable\"><input class=\"sk-toggleable__control sk-hidden--visually\" id=\"sk-estimator-id-8\" type=\"checkbox\" ><label for=\"sk-estimator-id-8\" class=\"sk-toggleable__label sk-toggleable__label-arrow\">RandomizedSearchCV</label><div class=\"sk-toggleable__content\"><pre>RandomizedSearchCV(estimator=Pipeline(steps=[(&#x27;transformer&#x27;,\n",
       "                                              ColumnTransformer(transformers=[(&#x27;numeric&#x27;,\n",
       "                                                                               StandardScaler(),\n",
       "                                                                               [&#x27;attractive_o&#x27;,\n",
       "                                                                                &#x27;guess_prob_liked&#x27;,\n",
       "                                                                                &#x27;shared_interests_o&#x27;,\n",
       "                                                                                &#x27;attractive_partner&#x27;,\n",
       "                                                                                &#x27;shared_interests_partner&#x27;,\n",
       "                                                                                &#x27;funny_o&#x27;,\n",
       "                                                                                &#x27;funny_partner&#x27;,\n",
       "                                                                                &#x27;met&#x27;,\n",
       "                                                                                &#x27;expected_num_matches&#x27;,\n",
       "                                                                                &#x27;concerts&#x27;])],\n",
       "                                                                verbose_feature_names_out=False)),\n",
       "                                             (&#x27;RF_model&#x27;,\n",
       "                                              RandomFores...\n",
       "                   n_jobs=-1,\n",
       "                   param_distributions={&#x27;RF_model__max_depth&#x27;: &lt;scipy.stats._distn_infrastructure.rv_discrete_frozen object at 0x168adf210&gt;,\n",
       "                                        &#x27;RF_model__min_impurity_decrease&#x27;: &lt;scipy.stats._distn_infrastructure.rv_continuous_frozen object at 0x168ab7e50&gt;,\n",
       "                                        &#x27;RF_model__min_samples_leaf&#x27;: &lt;scipy.stats._distn_infrastructure.rv_discrete_frozen object at 0x286808490&gt;},\n",
       "                   verbose=True)</pre></div></div></div><div class=\"sk-parallel\"><div class=\"sk-parallel-item\"><div class=\"sk-item\"><div class=\"sk-label-container\"><div class=\"sk-label sk-toggleable\"><input class=\"sk-toggleable__control sk-hidden--visually\" id=\"sk-estimator-id-9\" type=\"checkbox\" ><label for=\"sk-estimator-id-9\" class=\"sk-toggleable__label sk-toggleable__label-arrow\">estimator: Pipeline</label><div class=\"sk-toggleable__content\"><pre>Pipeline(steps=[(&#x27;transformer&#x27;,\n",
       "                 ColumnTransformer(transformers=[(&#x27;numeric&#x27;, StandardScaler(),\n",
       "                                                  [&#x27;attractive_o&#x27;,\n",
       "                                                   &#x27;guess_prob_liked&#x27;,\n",
       "                                                   &#x27;shared_interests_o&#x27;,\n",
       "                                                   &#x27;attractive_partner&#x27;,\n",
       "                                                   &#x27;shared_interests_partner&#x27;,\n",
       "                                                   &#x27;funny_o&#x27;, &#x27;funny_partner&#x27;,\n",
       "                                                   &#x27;met&#x27;,\n",
       "                                                   &#x27;expected_num_matches&#x27;,\n",
       "                                                   &#x27;concerts&#x27;])],\n",
       "                                   verbose_feature_names_out=False)),\n",
       "                (&#x27;RF_model&#x27;, RandomForestClassifier())])</pre></div></div></div><div class=\"sk-serial\"><div class=\"sk-item\"><div class=\"sk-serial\"><div class=\"sk-item sk-dashed-wrapped\"><div class=\"sk-label-container\"><div class=\"sk-label sk-toggleable\"><input class=\"sk-toggleable__control sk-hidden--visually\" id=\"sk-estimator-id-10\" type=\"checkbox\" ><label for=\"sk-estimator-id-10\" class=\"sk-toggleable__label sk-toggleable__label-arrow\">transformer: ColumnTransformer</label><div class=\"sk-toggleable__content\"><pre>ColumnTransformer(transformers=[(&#x27;numeric&#x27;, StandardScaler(),\n",
       "                                 [&#x27;attractive_o&#x27;, &#x27;guess_prob_liked&#x27;,\n",
       "                                  &#x27;shared_interests_o&#x27;, &#x27;attractive_partner&#x27;,\n",
       "                                  &#x27;shared_interests_partner&#x27;, &#x27;funny_o&#x27;,\n",
       "                                  &#x27;funny_partner&#x27;, &#x27;met&#x27;,\n",
       "                                  &#x27;expected_num_matches&#x27;, &#x27;concerts&#x27;])],\n",
       "                  verbose_feature_names_out=False)</pre></div></div></div><div class=\"sk-parallel\"><div class=\"sk-parallel-item\"><div class=\"sk-item\"><div class=\"sk-label-container\"><div class=\"sk-label sk-toggleable\"><input class=\"sk-toggleable__control sk-hidden--visually\" id=\"sk-estimator-id-11\" type=\"checkbox\" ><label for=\"sk-estimator-id-11\" class=\"sk-toggleable__label sk-toggleable__label-arrow\">numeric</label><div class=\"sk-toggleable__content\"><pre>[&#x27;attractive_o&#x27;, &#x27;guess_prob_liked&#x27;, &#x27;shared_interests_o&#x27;, &#x27;attractive_partner&#x27;, &#x27;shared_interests_partner&#x27;, &#x27;funny_o&#x27;, &#x27;funny_partner&#x27;, &#x27;met&#x27;, &#x27;expected_num_matches&#x27;, &#x27;concerts&#x27;]</pre></div></div></div><div class=\"sk-serial\"><div class=\"sk-item\"><div class=\"sk-estimator sk-toggleable\"><input class=\"sk-toggleable__control sk-hidden--visually\" id=\"sk-estimator-id-12\" type=\"checkbox\" ><label for=\"sk-estimator-id-12\" class=\"sk-toggleable__label sk-toggleable__label-arrow\">StandardScaler</label><div class=\"sk-toggleable__content\"><pre>StandardScaler()</pre></div></div></div></div></div></div></div></div><div class=\"sk-item\"><div class=\"sk-estimator sk-toggleable\"><input class=\"sk-toggleable__control sk-hidden--visually\" id=\"sk-estimator-id-13\" type=\"checkbox\" ><label for=\"sk-estimator-id-13\" class=\"sk-toggleable__label sk-toggleable__label-arrow\">RandomForestClassifier</label><div class=\"sk-toggleable__content\"><pre>RandomForestClassifier()</pre></div></div></div></div></div></div></div></div></div></div></div></div>"
      ],
      "text/plain": [
       "RandomizedSearchCV(estimator=Pipeline(steps=[('transformer',\n",
       "                                              ColumnTransformer(transformers=[('numeric',\n",
       "                                                                               StandardScaler(),\n",
       "                                                                               ['attractive_o',\n",
       "                                                                                'guess_prob_liked',\n",
       "                                                                                'shared_interests_o',\n",
       "                                                                                'attractive_partner',\n",
       "                                                                                'shared_interests_partner',\n",
       "                                                                                'funny_o',\n",
       "                                                                                'funny_partner',\n",
       "                                                                                'met',\n",
       "                                                                                'expected_num_matches',\n",
       "                                                                                'concerts'])],\n",
       "                                                                verbose_feature_names_out=False)),\n",
       "                                             ('RF_model',\n",
       "                                              RandomFores...\n",
       "                   n_jobs=-1,\n",
       "                   param_distributions={'RF_model__max_depth': <scipy.stats._distn_infrastructure.rv_discrete_frozen object at 0x168adf210>,\n",
       "                                        'RF_model__min_impurity_decrease': <scipy.stats._distn_infrastructure.rv_continuous_frozen object at 0x168ab7e50>,\n",
       "                                        'RF_model__min_samples_leaf': <scipy.stats._distn_infrastructure.rv_discrete_frozen object at 0x286808490>},\n",
       "                   verbose=True)"
      ]
     },
     "execution_count": 120,
     "metadata": {},
     "output_type": "execute_result"
    }
   ],
   "source": [
    "#fit model to best parameters\n",
    "from sklearn.model_selection import RandomizedSearchCV\n",
    "\n",
    "n_iter_search = 10\n",
    "\n",
    "random_search = RandomizedSearchCV(classification_pipeline, param_distributions=parameters, n_iter=n_iter_search, n_jobs=-1, verbose=True)\n",
    "\n",
    "random_search.fit(X_train_top10, y_train_top10)"
   ]
  },
  {
   "cell_type": "code",
   "execution_count": 122,
   "metadata": {},
   "outputs": [
    {
     "data": {
      "text/plain": [
       "0.8575183423365313"
      ]
     },
     "execution_count": 122,
     "metadata": {},
     "output_type": "execute_result"
    }
   ],
   "source": [
    "random_search.best_score_ \n",
    "#still best score is only 86%"
   ]
  },
  {
   "cell_type": "code",
   "execution_count": 123,
   "metadata": {},
   "outputs": [
    {
     "data": {
      "text/html": [
       "<style>#sk-container-id-5 {color: black;}#sk-container-id-5 pre{padding: 0;}#sk-container-id-5 div.sk-toggleable {background-color: white;}#sk-container-id-5 label.sk-toggleable__label {cursor: pointer;display: block;width: 100%;margin-bottom: 0;padding: 0.3em;box-sizing: border-box;text-align: center;}#sk-container-id-5 label.sk-toggleable__label-arrow:before {content: \"▸\";float: left;margin-right: 0.25em;color: #696969;}#sk-container-id-5 label.sk-toggleable__label-arrow:hover:before {color: black;}#sk-container-id-5 div.sk-estimator:hover label.sk-toggleable__label-arrow:before {color: black;}#sk-container-id-5 div.sk-toggleable__content {max-height: 0;max-width: 0;overflow: hidden;text-align: left;background-color: #f0f8ff;}#sk-container-id-5 div.sk-toggleable__content pre {margin: 0.2em;color: black;border-radius: 0.25em;background-color: #f0f8ff;}#sk-container-id-5 input.sk-toggleable__control:checked~div.sk-toggleable__content {max-height: 200px;max-width: 100%;overflow: auto;}#sk-container-id-5 input.sk-toggleable__control:checked~label.sk-toggleable__label-arrow:before {content: \"▾\";}#sk-container-id-5 div.sk-estimator input.sk-toggleable__control:checked~label.sk-toggleable__label {background-color: #d4ebff;}#sk-container-id-5 div.sk-label input.sk-toggleable__control:checked~label.sk-toggleable__label {background-color: #d4ebff;}#sk-container-id-5 input.sk-hidden--visually {border: 0;clip: rect(1px 1px 1px 1px);clip: rect(1px, 1px, 1px, 1px);height: 1px;margin: -1px;overflow: hidden;padding: 0;position: absolute;width: 1px;}#sk-container-id-5 div.sk-estimator {font-family: monospace;background-color: #f0f8ff;border: 1px dotted black;border-radius: 0.25em;box-sizing: border-box;margin-bottom: 0.5em;}#sk-container-id-5 div.sk-estimator:hover {background-color: #d4ebff;}#sk-container-id-5 div.sk-parallel-item::after {content: \"\";width: 100%;border-bottom: 1px solid gray;flex-grow: 1;}#sk-container-id-5 div.sk-label:hover label.sk-toggleable__label {background-color: #d4ebff;}#sk-container-id-5 div.sk-serial::before {content: \"\";position: absolute;border-left: 1px solid gray;box-sizing: border-box;top: 0;bottom: 0;left: 50%;z-index: 0;}#sk-container-id-5 div.sk-serial {display: flex;flex-direction: column;align-items: center;background-color: white;padding-right: 0.2em;padding-left: 0.2em;position: relative;}#sk-container-id-5 div.sk-item {position: relative;z-index: 1;}#sk-container-id-5 div.sk-parallel {display: flex;align-items: stretch;justify-content: center;background-color: white;position: relative;}#sk-container-id-5 div.sk-item::before, #sk-container-id-5 div.sk-parallel-item::before {content: \"\";position: absolute;border-left: 1px solid gray;box-sizing: border-box;top: 0;bottom: 0;left: 50%;z-index: -1;}#sk-container-id-5 div.sk-parallel-item {display: flex;flex-direction: column;z-index: 1;position: relative;background-color: white;}#sk-container-id-5 div.sk-parallel-item:first-child::after {align-self: flex-end;width: 50%;}#sk-container-id-5 div.sk-parallel-item:last-child::after {align-self: flex-start;width: 50%;}#sk-container-id-5 div.sk-parallel-item:only-child::after {width: 0;}#sk-container-id-5 div.sk-dashed-wrapped {border: 1px dashed gray;margin: 0 0.4em 0.5em 0.4em;box-sizing: border-box;padding-bottom: 0.4em;background-color: white;}#sk-container-id-5 div.sk-label label {font-family: monospace;font-weight: bold;display: inline-block;line-height: 1.2em;}#sk-container-id-5 div.sk-label-container {text-align: center;}#sk-container-id-5 div.sk-container {/* jupyter's `normalize.less` sets `[hidden] { display: none; }` but bootstrap.min.css set `[hidden] { display: none !important; }` so we also need the `!important` here to be able to override the default hidden behavior on the sphinx rendered scikit-learn.org. See: https://github.com/scikit-learn/scikit-learn/issues/21755 */display: inline-block !important;position: relative;}#sk-container-id-5 div.sk-text-repr-fallback {display: none;}</style><div id=\"sk-container-id-5\" class=\"sk-top-container\"><div class=\"sk-text-repr-fallback\"><pre>Pipeline(steps=[(&#x27;transformer&#x27;,\n",
       "                 ColumnTransformer(transformers=[(&#x27;numeric&#x27;, StandardScaler(),\n",
       "                                                  [&#x27;attractive_o&#x27;,\n",
       "                                                   &#x27;guess_prob_liked&#x27;,\n",
       "                                                   &#x27;shared_interests_o&#x27;,\n",
       "                                                   &#x27;attractive_partner&#x27;,\n",
       "                                                   &#x27;shared_interests_partner&#x27;,\n",
       "                                                   &#x27;funny_o&#x27;, &#x27;funny_partner&#x27;,\n",
       "                                                   &#x27;met&#x27;,\n",
       "                                                   &#x27;expected_num_matches&#x27;,\n",
       "                                                   &#x27;concerts&#x27;])],\n",
       "                                   verbose_feature_names_out=False)),\n",
       "                (&#x27;RF_model&#x27;,\n",
       "                 RandomForestClassifier(max_depth=23,\n",
       "                                        min_impurity_decrease=0.0008982385551574712,\n",
       "                                        min_samples_leaf=9))])</pre><b>In a Jupyter environment, please rerun this cell to show the HTML representation or trust the notebook. <br />On GitHub, the HTML representation is unable to render, please try loading this page with nbviewer.org.</b></div><div class=\"sk-container\" hidden><div class=\"sk-item sk-dashed-wrapped\"><div class=\"sk-label-container\"><div class=\"sk-label sk-toggleable\"><input class=\"sk-toggleable__control sk-hidden--visually\" id=\"sk-estimator-id-14\" type=\"checkbox\" ><label for=\"sk-estimator-id-14\" class=\"sk-toggleable__label sk-toggleable__label-arrow\">Pipeline</label><div class=\"sk-toggleable__content\"><pre>Pipeline(steps=[(&#x27;transformer&#x27;,\n",
       "                 ColumnTransformer(transformers=[(&#x27;numeric&#x27;, StandardScaler(),\n",
       "                                                  [&#x27;attractive_o&#x27;,\n",
       "                                                   &#x27;guess_prob_liked&#x27;,\n",
       "                                                   &#x27;shared_interests_o&#x27;,\n",
       "                                                   &#x27;attractive_partner&#x27;,\n",
       "                                                   &#x27;shared_interests_partner&#x27;,\n",
       "                                                   &#x27;funny_o&#x27;, &#x27;funny_partner&#x27;,\n",
       "                                                   &#x27;met&#x27;,\n",
       "                                                   &#x27;expected_num_matches&#x27;,\n",
       "                                                   &#x27;concerts&#x27;])],\n",
       "                                   verbose_feature_names_out=False)),\n",
       "                (&#x27;RF_model&#x27;,\n",
       "                 RandomForestClassifier(max_depth=23,\n",
       "                                        min_impurity_decrease=0.0008982385551574712,\n",
       "                                        min_samples_leaf=9))])</pre></div></div></div><div class=\"sk-serial\"><div class=\"sk-item sk-dashed-wrapped\"><div class=\"sk-label-container\"><div class=\"sk-label sk-toggleable\"><input class=\"sk-toggleable__control sk-hidden--visually\" id=\"sk-estimator-id-15\" type=\"checkbox\" ><label for=\"sk-estimator-id-15\" class=\"sk-toggleable__label sk-toggleable__label-arrow\">transformer: ColumnTransformer</label><div class=\"sk-toggleable__content\"><pre>ColumnTransformer(transformers=[(&#x27;numeric&#x27;, StandardScaler(),\n",
       "                                 [&#x27;attractive_o&#x27;, &#x27;guess_prob_liked&#x27;,\n",
       "                                  &#x27;shared_interests_o&#x27;, &#x27;attractive_partner&#x27;,\n",
       "                                  &#x27;shared_interests_partner&#x27;, &#x27;funny_o&#x27;,\n",
       "                                  &#x27;funny_partner&#x27;, &#x27;met&#x27;,\n",
       "                                  &#x27;expected_num_matches&#x27;, &#x27;concerts&#x27;])],\n",
       "                  verbose_feature_names_out=False)</pre></div></div></div><div class=\"sk-parallel\"><div class=\"sk-parallel-item\"><div class=\"sk-item\"><div class=\"sk-label-container\"><div class=\"sk-label sk-toggleable\"><input class=\"sk-toggleable__control sk-hidden--visually\" id=\"sk-estimator-id-16\" type=\"checkbox\" ><label for=\"sk-estimator-id-16\" class=\"sk-toggleable__label sk-toggleable__label-arrow\">numeric</label><div class=\"sk-toggleable__content\"><pre>[&#x27;attractive_o&#x27;, &#x27;guess_prob_liked&#x27;, &#x27;shared_interests_o&#x27;, &#x27;attractive_partner&#x27;, &#x27;shared_interests_partner&#x27;, &#x27;funny_o&#x27;, &#x27;funny_partner&#x27;, &#x27;met&#x27;, &#x27;expected_num_matches&#x27;, &#x27;concerts&#x27;]</pre></div></div></div><div class=\"sk-serial\"><div class=\"sk-item\"><div class=\"sk-estimator sk-toggleable\"><input class=\"sk-toggleable__control sk-hidden--visually\" id=\"sk-estimator-id-17\" type=\"checkbox\" ><label for=\"sk-estimator-id-17\" class=\"sk-toggleable__label sk-toggleable__label-arrow\">StandardScaler</label><div class=\"sk-toggleable__content\"><pre>StandardScaler()</pre></div></div></div></div></div></div></div></div><div class=\"sk-item\"><div class=\"sk-estimator sk-toggleable\"><input class=\"sk-toggleable__control sk-hidden--visually\" id=\"sk-estimator-id-18\" type=\"checkbox\" ><label for=\"sk-estimator-id-18\" class=\"sk-toggleable__label sk-toggleable__label-arrow\">RandomForestClassifier</label><div class=\"sk-toggleable__content\"><pre>RandomForestClassifier(max_depth=23,\n",
       "                       min_impurity_decrease=0.0008982385551574712,\n",
       "                       min_samples_leaf=9)</pre></div></div></div></div></div></div></div>"
      ],
      "text/plain": [
       "Pipeline(steps=[('transformer',\n",
       "                 ColumnTransformer(transformers=[('numeric', StandardScaler(),\n",
       "                                                  ['attractive_o',\n",
       "                                                   'guess_prob_liked',\n",
       "                                                   'shared_interests_o',\n",
       "                                                   'attractive_partner',\n",
       "                                                   'shared_interests_partner',\n",
       "                                                   'funny_o', 'funny_partner',\n",
       "                                                   'met',\n",
       "                                                   'expected_num_matches',\n",
       "                                                   'concerts'])],\n",
       "                                   verbose_feature_names_out=False)),\n",
       "                ('RF_model',\n",
       "                 RandomForestClassifier(max_depth=23,\n",
       "                                        min_impurity_decrease=0.0008982385551574712,\n",
       "                                        min_samples_leaf=9))])"
      ]
     },
     "execution_count": 123,
     "metadata": {},
     "output_type": "execute_result"
    }
   ],
   "source": [
    "random_search.best_estimator_\n",
    "#best max_depth = 23\n",
    "#best min_impurity_decrease = 0.0008982385551574712\n",
    "#best min_samples_leaf = 9"
   ]
  },
  {
   "cell_type": "markdown",
   "metadata": {},
   "source": [
    "#### then cross validate"
   ]
  },
  {
   "cell_type": "code",
   "execution_count": 127,
   "metadata": {},
   "outputs": [
    {
     "data": {
      "text/plain": [
       "<bound method BaseSearchCV.predict_proba of RandomizedSearchCV(estimator=Pipeline(steps=[('transformer',\n",
       "                                              ColumnTransformer(transformers=[('numeric',\n",
       "                                                                               StandardScaler(),\n",
       "                                                                               ['attractive_o',\n",
       "                                                                                'guess_prob_liked',\n",
       "                                                                                'shared_interests_o',\n",
       "                                                                                'attractive_partner',\n",
       "                                                                                'shared_interests_partner',\n",
       "                                                                                'funny_o',\n",
       "                                                                                'funny_partner',\n",
       "                                                                                'met',\n",
       "                                                                                'expected_num_matches',\n",
       "                                                                                'concerts'])],\n",
       "                                                                verbose_feature_names_out=False)),\n",
       "                                             ('RF_model',\n",
       "                                              RandomFores...\n",
       "                   n_jobs=-1,\n",
       "                   param_distributions={'RF_model__max_depth': <scipy.stats._distn_infrastructure.rv_discrete_frozen object at 0x168adf210>,\n",
       "                                        'RF_model__min_impurity_decrease': <scipy.stats._distn_infrastructure.rv_continuous_frozen object at 0x168ab7e50>,\n",
       "                                        'RF_model__min_samples_leaf': <scipy.stats._distn_infrastructure.rv_discrete_frozen object at 0x286808490>},\n",
       "                   verbose=True)>"
      ]
     },
     "execution_count": 127,
     "metadata": {},
     "output_type": "execute_result"
    }
   ],
   "source": [
    "random_search."
   ]
  }
 ],
 "metadata": {
  "kernelspec": {
   "display_name": "Python 3 (ipykernel)",
   "language": "python",
   "name": "python3"
  },
  "language_info": {
   "codemirror_mode": {
    "name": "ipython",
    "version": 3
   },
   "file_extension": ".py",
   "mimetype": "text/x-python",
   "name": "python",
   "nbconvert_exporter": "python",
   "pygments_lexer": "ipython3",
   "version": "3.11.5"
  }
 },
 "nbformat": 4,
 "nbformat_minor": 2
}
